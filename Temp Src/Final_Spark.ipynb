{
  "nbformat": 4,
  "nbformat_minor": 0,
  "metadata": {
    "colab": {
      "provenance": []
    },
    "kernelspec": {
      "name": "python3",
      "display_name": "Python 3"
    },
    "language_info": {
      "name": "python"
    }
  },
  "cells": [
    {
      "cell_type": "markdown",
      "source": [
        "# Setup"
      ],
      "metadata": {
        "id": "6TBjAms0U8a2"
      }
    },
    {
      "cell_type": "code",
      "execution_count": 1,
      "metadata": {
        "id": "DxL3QqIrTocJ"
      },
      "outputs": [],
      "source": [
        "# نصب Java و Spark (نسخه پایدارتر برای Colab)\n",
        "!apt-get install openjdk-8-jdk-headless -qq > /dev/null\n",
        "!wget -q https://archive.apache.org/dist/spark/spark-3.1.2/spark-3.1.2-bin-hadoop2.7.tgz\n",
        "!tar xf spark-3.1.2-bin-hadoop2.7.tgz\n",
        "!pip install -q findspark\n",
        "\n",
        "# تنظیم متغیرهای محیطی\n",
        "import os\n",
        "os.environ[\"JAVA_HOME\"] = \"/usr/lib/jvm/java-8-openjdk-amd64\"\n",
        "os.environ[\"SPARK_HOME\"] = \"/content/spark-3.1.2-bin-hadoop2.7\"\n",
        "\n",
        "import findspark\n",
        "findspark.init()\n"
      ]
    },
    {
      "cell_type": "markdown",
      "source": [
        "# **1-**"
      ],
      "metadata": {
        "id": "H79jIOPKaiuj"
      }
    },
    {
      "cell_type": "markdown",
      "source": [
        "# Spark Sec"
      ],
      "metadata": {
        "id": "8FIdZRBHVoAV"
      }
    },
    {
      "cell_type": "code",
      "source": [
        "from pyspark.sql import SparkSession\n",
        "\n",
        "spark = SparkSession.builder \\\n",
        "    .appName(\"HeartDiseaseClassification\") \\\n",
        "    .getOrCreate()\n"
      ],
      "metadata": {
        "id": "E6owp2J0U4le"
      },
      "execution_count": null,
      "outputs": []
    },
    {
      "cell_type": "markdown",
      "source": [
        "# Dataset"
      ],
      "metadata": {
        "id": "jPfNzg_9VsKE"
      }
    },
    {
      "cell_type": "markdown",
      "source": [
        "## دانلود"
      ],
      "metadata": {
        "id": "bFrP9IRrr1kq"
      }
    },
    {
      "cell_type": "code",
      "source": [
        "import kagglehub\n",
        "\n",
        "# Download latest version\n",
        "path = kagglehub.dataset_download(\"redwankarimsony/heart-disease-data\")\n",
        "\n",
        "print(\"Path to dataset files:\", path)"
      ],
      "metadata": {
        "id": "hpczoTkjaQSa"
      },
      "execution_count": null,
      "outputs": []
    },
    {
      "cell_type": "markdown",
      "source": [
        "## لود لوکال"
      ],
      "metadata": {
        "id": "bQEsTsItr3r_"
      }
    },
    {
      "cell_type": "code",
      "source": [
        "df = spark.read.csv(\"/content/heart_disease_uci.csv\", header=True, inferSchema=True)\n",
        "df.printSchema()\n",
        "df.show(5)\n"
      ],
      "metadata": {
        "colab": {
          "base_uri": "https://localhost:8080/"
        },
        "id": "zFIsIWkFVrhd",
        "outputId": "f58ddc0f-8d6e-4f33-d93b-f887cb3bb56e"
      },
      "execution_count": null,
      "outputs": [
        {
          "output_type": "stream",
          "name": "stdout",
          "text": [
            "root\n",
            " |-- id: integer (nullable = true)\n",
            " |-- age: integer (nullable = true)\n",
            " |-- sex: string (nullable = true)\n",
            " |-- dataset: string (nullable = true)\n",
            " |-- cp: string (nullable = true)\n",
            " |-- trestbps: integer (nullable = true)\n",
            " |-- chol: integer (nullable = true)\n",
            " |-- fbs: boolean (nullable = true)\n",
            " |-- restecg: string (nullable = true)\n",
            " |-- thalch: integer (nullable = true)\n",
            " |-- exang: boolean (nullable = true)\n",
            " |-- oldpeak: double (nullable = true)\n",
            " |-- slope: string (nullable = true)\n",
            " |-- ca: integer (nullable = true)\n",
            " |-- thal: string (nullable = true)\n",
            " |-- num: integer (nullable = true)\n",
            "\n",
            "+---+---+------+---------+---------------+--------+----+-----+--------------+------+-----+-------+-----------+---+-----------------+---+\n",
            "| id|age|   sex|  dataset|             cp|trestbps|chol|  fbs|       restecg|thalch|exang|oldpeak|      slope| ca|             thal|num|\n",
            "+---+---+------+---------+---------------+--------+----+-----+--------------+------+-----+-------+-----------+---+-----------------+---+\n",
            "|  1| 63|  Male|Cleveland| typical angina|     145| 233| true|lv hypertrophy|   150|false|    2.3|downsloping|  0|     fixed defect|  0|\n",
            "|  2| 67|  Male|Cleveland|   asymptomatic|     160| 286|false|lv hypertrophy|   108| true|    1.5|       flat|  3|           normal|  2|\n",
            "|  3| 67|  Male|Cleveland|   asymptomatic|     120| 229|false|lv hypertrophy|   129| true|    2.6|       flat|  2|reversable defect|  1|\n",
            "|  4| 37|  Male|Cleveland|    non-anginal|     130| 250|false|        normal|   187|false|    3.5|downsloping|  0|           normal|  0|\n",
            "|  5| 41|Female|Cleveland|atypical angina|     130| 204|false|lv hypertrophy|   172|false|    1.4|  upsloping|  0|           normal|  0|\n",
            "+---+---+------+---------+---------------+--------+----+-----+--------------+------+-----+-------+-----------+---+-----------------+---+\n",
            "only showing top 5 rows\n",
            "\n"
          ]
        }
      ]
    },
    {
      "cell_type": "markdown",
      "source": [
        "# PreProcess"
      ],
      "metadata": {
        "id": "-d6gqVY0V2UF"
      }
    },
    {
      "cell_type": "code",
      "source": [
        "from pyspark.ml.feature import StringIndexer, VectorAssembler\n",
        "from pyspark.ml import Pipeline\n",
        "\n",
        "df = df.dropna()\n",
        "categorical_cols = []\n",
        "numerical_cols = [col for col in df.columns if col != 'target']\n",
        "\n",
        "assembler = VectorAssembler(inputCols=numerical_cols, outputCol=\"features\")\n",
        "pipeline = Pipeline(stages=[assembler])\n",
        "df_transformed = pipeline.fit(df).transform(df)\n",
        "\n",
        "df_final = df_transformed.select(\"features\", \"target\")\n",
        "df_final.show(5)"
      ],
      "metadata": {
        "id": "wgcs8lQ5V1kM"
      },
      "execution_count": null,
      "outputs": []
    },
    {
      "cell_type": "code",
      "source": [
        "from pyspark.sql.functions import col\n",
        "\n",
        "# مرحله 0: تبدیل ستون‌های boolean به رشته\n",
        "df = df.withColumn(\"fbs\", col(\"fbs\").cast(\"string\"))\n",
        "df = df.withColumn(\"exang\", col(\"exang\").cast(\"string\"))\n",
        "\n",
        "# حذف ردیف‌های ناقص\n",
        "df = df.dropna()\n",
        "\n",
        "# لیست ستون‌های دسته‌ای (categorical) که باید index بشن\n",
        "categorical_cols = [\"sex\", \"cp\", \"restecg\", \"slope\", \"thal\", \"fbs\", \"exang\", \"dataset\"]\n",
        "\n",
        "# ستون‌های عددی (numeric)\n",
        "numeric_cols = [\"age\", \"trestbps\", \"chol\", \"thalch\", \"oldpeak\", \"ca\"]\n",
        "\n",
        "# مراحل index کردن\n",
        "from pyspark.ml.feature import StringIndexer, VectorAssembler\n",
        "from pyspark.ml import Pipeline\n",
        "\n",
        "indexers = [StringIndexer(inputCol=col, outputCol=col + \"_idx\") for col in categorical_cols]\n",
        "\n",
        "# ترکیب featureها\n",
        "assembler = VectorAssembler(\n",
        "    inputCols=[col + \"_idx\" for col in categorical_cols] + numeric_cols,\n",
        "    outputCol=\"features\"\n",
        ")\n",
        "\n",
        "# pipeline ساخت\n",
        "pipeline = Pipeline(stages=indexers + [assembler])\n",
        "\n",
        "# اجرا\n",
        "df_prepared = pipeline.fit(df).transform(df)\n",
        "\n",
        "# نهایی‌سازی دیتافریم\n",
        "df_final = df_prepared.select(\"features\", col(\"num\").alias(\"label\"))\n",
        "df_final.show(5)\n"
      ],
      "metadata": {
        "colab": {
          "base_uri": "https://localhost:8080/"
        },
        "id": "dZGFiWK5sDXi",
        "outputId": "2d0ecd4d-bc6e-4e7e-a6a9-fb94ef59b882"
      },
      "execution_count": null,
      "outputs": [
        {
          "output_type": "stream",
          "name": "stdout",
          "text": [
            "+--------------------+-----+\n",
            "|            features|label|\n",
            "+--------------------+-----+\n",
            "|[0.0,3.0,1.0,2.0,...|    0|\n",
            "|(14,[2,6,8,9,10,1...|    2|\n",
            "|[0.0,0.0,1.0,0.0,...|    1|\n",
            "|(14,[1,3,8,9,10,1...|    0|\n",
            "|[1.0,2.0,1.0,1.0,...|    0|\n",
            "+--------------------+-----+\n",
            "only showing top 5 rows\n",
            "\n"
          ]
        }
      ]
    },
    {
      "cell_type": "markdown",
      "source": [
        "# Train / Test : Split"
      ],
      "metadata": {
        "id": "I6ZPsF66WCA8"
      }
    },
    {
      "cell_type": "code",
      "source": [
        "# تقسیم داده‌ها\n",
        "train_data, test_data = df_final.randomSplit([0.8, 0.2], seed=42)\n",
        "\n",
        "# آموزش مدل\n",
        "from pyspark.ml.classification import RandomForestClassifier\n",
        "from pyspark.ml.evaluation import MulticlassClassificationEvaluator\n",
        "\n",
        "\n",
        "rf = RandomForestClassifier(labelCol=\"label\", featuresCol=\"features\")\n",
        "model = rf.fit(train_data)\n",
        "\n",
        "# پیش‌بینی\n",
        "predictions = model.transform(test_data)\n",
        "\n",
        "# نمایش نتایج\n",
        "predictions.select(\"prediction\", \"label\").show(10)\n",
        "\n",
        "# ارزیابی دقت\n",
        "evaluator = MulticlassClassificationEvaluator(labelCol=\"label\", predictionCol=\"prediction\", metricName=\"accuracy\")\n",
        "accuracy = evaluator.evaluate(predictions)\n",
        "print(f\" Accuracy: {accuracy}\")\n"
      ],
      "metadata": {
        "colab": {
          "base_uri": "https://localhost:8080/"
        },
        "id": "U4G7mTC1WAIU",
        "outputId": "0dcd5d42-0b44-4237-b952-1c8747ee4412"
      },
      "execution_count": null,
      "outputs": [
        {
          "output_type": "stream",
          "name": "stdout",
          "text": [
            "+----------+-----+\n",
            "|prediction|label|\n",
            "+----------+-----+\n",
            "|       0.0|    0|\n",
            "|       0.0|    0|\n",
            "|       0.0|    0|\n",
            "|       0.0|    0|\n",
            "|       0.0|    0|\n",
            "|       0.0|    0|\n",
            "|       0.0|    0|\n",
            "|       0.0|    0|\n",
            "|       2.0|    2|\n",
            "|       0.0|    0|\n",
            "+----------+-----+\n",
            "only showing top 10 rows\n",
            "\n",
            "✅ Accuracy: 0.6595744680851063\n"
          ]
        }
      ]
    },
    {
      "cell_type": "markdown",
      "source": [
        "# Eval"
      ],
      "metadata": {
        "id": "Zj3-BJhuWKUM"
      }
    },
    {
      "cell_type": "code",
      "source": [
        "df_final.groupBy(\"label\").count().show()"
      ],
      "metadata": {
        "colab": {
          "base_uri": "https://localhost:8080/"
        },
        "id": "7STkqrDaF13V",
        "outputId": "9a1a5089-4715-4a90-9fd3-794e1e470944"
      },
      "execution_count": null,
      "outputs": [
        {
          "output_type": "stream",
          "name": "stdout",
          "text": [
            "+-----+-----+\n",
            "|label|count|\n",
            "+-----+-----+\n",
            "|    1|   56|\n",
            "|    3|   35|\n",
            "|    4|   13|\n",
            "|    2|   35|\n",
            "|    0|  160|\n",
            "+-----+-----+\n",
            "\n"
          ]
        }
      ]
    },
    {
      "cell_type": "code",
      "source": [
        "from pyspark.ml.evaluation import MulticlassClassificationEvaluator\n",
        "import matplotlib.pyplot as plt\n",
        "import seaborn as sns\n",
        "import pandas as pd\n",
        "from sklearn.metrics import confusion_matrix, ConfusionMatrixDisplay, classification_report\n",
        "\n",
        "# پیش‌بینی مجدد\n",
        "predictions = model.transform(test_data)\n",
        "\n",
        "# محاسبه معیارها در PySpark\n",
        "evaluator_accuracy = MulticlassClassificationEvaluator(labelCol=\"label\", predictionCol=\"prediction\", metricName=\"accuracy\")\n",
        "evaluator_f1 = MulticlassClassificationEvaluator(labelCol=\"label\", predictionCol=\"prediction\", metricName=\"f1\")\n",
        "evaluator_precision = MulticlassClassificationEvaluator(labelCol=\"label\", predictionCol=\"prediction\", metricName=\"weightedPrecision\")\n",
        "evaluator_recall = MulticlassClassificationEvaluator(labelCol=\"label\", predictionCol=\"prediction\", metricName=\"weightedRecall\")\n",
        "\n",
        "acc = evaluator_accuracy.evaluate(predictions)\n",
        "f1 = evaluator_f1.evaluate(predictions)\n",
        "prec = evaluator_precision.evaluate(predictions)\n",
        "rec = evaluator_recall.evaluate(predictions)\n",
        "\n",
        "print(f\" Accuracy        : {acc:.4f}\")\n",
        "print(f\" F1 Score        : {f1:.4f}\")\n",
        "print(f\" Precision       : {prec:.4f}\")\n",
        "print(f\" Recall (Sensitivity): {rec:.4f}\")\n"
      ],
      "metadata": {
        "colab": {
          "base_uri": "https://localhost:8080/"
        },
        "id": "nw0FquMQGknr",
        "outputId": "a6084d0e-748e-4731-b867-06ca2e18ae23"
      },
      "execution_count": null,
      "outputs": [
        {
          "output_type": "stream",
          "name": "stdout",
          "text": [
            "✅ Accuracy        : 0.6596\n",
            "🎯 F1 Score        : 0.5995\n",
            "🧭 Precision       : 0.5818\n",
            "🧪 Recall (Sensitivity): 0.6596\n"
          ]
        }
      ]
    },
    {
      "cell_type": "code",
      "source": [
        "# استخراج prediction و label به صورت لیست\n",
        "y_true = predictions.select(\"label\").toPandas()\n",
        "y_pred = predictions.select(\"prediction\").toPandas()\n",
        "\n",
        "# محاسبه و نمایش confusion matrix\n",
        "cm = confusion_matrix(y_true, y_pred, labels=[0,1,2,3,4])\n",
        "print(\" Confusion Matrix:\")\n",
        "print(cm)\n",
        "\n",
        "# رسم گرافیکی\n",
        "plt.figure(figsize=(8,6))\n",
        "sns.heatmap(cm, annot=True, fmt=\"d\", cmap=\"Blues\", xticklabels=[0,1,2,3,4], yticklabels=[0,1,2,3,4])\n",
        "plt.xlabel(\"Predicted Label\")\n",
        "plt.ylabel(\"True Label\")\n",
        "plt.title(\"Confusion Matrix\")\n",
        "plt.show()\n"
      ],
      "metadata": {
        "colab": {
          "base_uri": "https://localhost:8080/",
          "height": 668
        },
        "id": "4FK1C2BiGp5k",
        "outputId": "5cc5c686-24cf-4c0d-8d53-e679ecb46b0b"
      },
      "execution_count": null,
      "outputs": [
        {
          "output_type": "stream",
          "name": "stdout",
          "text": [
            "🔍 Confusion Matrix:\n",
            "[[29  0  0  1  0]\n",
            " [ 6  1  1  2  0]\n",
            " [ 1  0  1  0  0]\n",
            " [ 1  2  1  0  0]\n",
            " [ 0  0  1  0  0]]\n"
          ]
        },
        {
          "output_type": "display_data",
          "data": {
            "text/plain": [
              "<Figure size 800x600 with 2 Axes>"
            ],
            "image/png": "[encoded data removed]"
          },
          "metadata": {}
        }
      ]
    },
    {
      "cell_type": "code",
      "source": [
        "print(\" Classification Report:\")\n",
        "print(classification_report(y_true, y_pred, digits=3))\n"
      ],
      "metadata": {
        "colab": {
          "base_uri": "https://localhost:8080/"
        },
        "id": "J3JhjSaqG3vU",
        "outputId": "d8f5f0e0-5841-4afe-95c8-c811448738fe"
      },
      "execution_count": null,
      "outputs": [
        {
          "output_type": "stream",
          "name": "stdout",
          "text": [
            "📝 Classification Report:\n",
            "              precision    recall  f1-score   support\n",
            "\n",
            "           0      0.784     0.967     0.866        30\n",
            "           1      0.333     0.100     0.154        10\n",
            "           2      0.250     0.500     0.333         2\n",
            "           3      0.000     0.000     0.000         4\n",
            "           4      0.000     0.000     0.000         1\n",
            "\n",
            "    accuracy                          0.660        47\n",
            "   macro avg      0.273     0.313     0.271        47\n",
            "weighted avg      0.582     0.660     0.599        47\n",
            "\n"
          ]
        },
        {
          "output_type": "stream",
          "name": "stderr",
          "text": [
            "/usr/local/lib/python3.11/dist-packages/sklearn/metrics/_classification.py:1565: UndefinedMetricWarning: Precision is ill-defined and being set to 0.0 in labels with no predicted samples. Use `zero_division` parameter to control this behavior.\n",
            "  _warn_prf(average, modifier, f\"{metric.capitalize()} is\", len(result))\n",
            "/usr/local/lib/python3.11/dist-packages/sklearn/metrics/_classification.py:1565: UndefinedMetricWarning: Precision is ill-defined and being set to 0.0 in labels with no predicted samples. Use `zero_division` parameter to control this behavior.\n",
            "  _warn_prf(average, modifier, f\"{metric.capitalize()} is\", len(result))\n",
            "/usr/local/lib/python3.11/dist-packages/sklearn/metrics/_classification.py:1565: UndefinedMetricWarning: Precision is ill-defined and being set to 0.0 in labels with no predicted samples. Use `zero_division` parameter to control this behavior.\n",
            "  _warn_prf(average, modifier, f\"{metric.capitalize()} is\", len(result))\n"
          ]
        }
      ]
    },
    {
      "cell_type": "markdown",
      "source": [
        "# Temp to Improve"
      ],
      "metadata": {
        "id": "6-jNiDr4ItH0"
      }
    },
    {
      "cell_type": "markdown",
      "source": [
        "### جنگل بهتر :"
      ],
      "metadata": {
        "id": "hdotsKpWRvr9"
      }
    },
    {
      "cell_type": "code",
      "source": [
        "from pyspark.ml.classification import RandomForestClassifier\n",
        "from pyspark.ml.evaluation import MulticlassClassificationEvaluator\n",
        "from sklearn.metrics import classification_report, confusion_matrix\n",
        "import matplotlib.pyplot as plt\n",
        "import seaborn as sns\n",
        "\n",
        "# 1. تقسیم داده‌ها\n",
        "train_data, test_data = df_final.randomSplit([0.8, 0.2], seed=42)\n",
        "\n",
        "# 2. مدل قوی‌تر با پارامترهای بهتر\n",
        "rf = RandomForestClassifier(\n",
        "    labelCol=\"label\",\n",
        "    featuresCol=\"features\",\n",
        "    numTrees=200,               # درخت‌های بیشتر = مدل پایدارتر\n",
        "    maxDepth=10,                # عمق بیشتر = تفکیک بهتر کلاس‌ها\n",
        "    minInstancesPerNode=2,      # کنترل overfitting\n",
        "    featureSubsetStrategy=\"auto\", # انتخاب ویژگی بهینه در هر split\n",
        "    subsamplingRate=0.9         # شبه-bagging برای تنوع بیشتر در درخت‌ها\n",
        ")\n",
        "model = rf.fit(train_data)\n",
        "\n",
        "# 3. پیش‌بینی\n",
        "predictions = model.transform(test_data)\n",
        "predictions.select(\"prediction\", \"label\").show(10)\n",
        "\n",
        "# 4. ارزیابی چندمعیاری در PySpark\n",
        "eval_acc = MulticlassClassificationEvaluator(labelCol=\"label\", predictionCol=\"prediction\", metricName=\"accuracy\")\n",
        "eval_f1 = MulticlassClassificationEvaluator(labelCol=\"label\", predictionCol=\"prediction\", metricName=\"f1\")\n",
        "eval_prec = MulticlassClassificationEvaluator(labelCol=\"label\", predictionCol=\"prediction\", metricName=\"weightedPrecision\")\n",
        "eval_rec = MulticlassClassificationEvaluator(labelCol=\"label\", predictionCol=\"prediction\", metricName=\"weightedRecall\")\n",
        "\n",
        "print(f\" Accuracy       : {eval_acc.evaluate(predictions):.4f}\")\n",
        "print(f\" F1 Score       : {eval_f1.evaluate(predictions):.4f}\")\n",
        "print(f\" Precision      : {eval_prec.evaluate(predictions):.4f}\")\n",
        "print(f\" Recall         : {eval_rec.evaluate(predictions):.4f}\")\n",
        "\n",
        "# 5. Confusion Matrix (با تبدیل به pandas)\n",
        "y_true = predictions.select(\"label\").toPandas()\n",
        "y_pred = predictions.select(\"prediction\").toPandas()\n",
        "cm = confusion_matrix(y_true, y_pred, labels=[0,1,2,3,4])\n",
        "\n",
        "plt.figure(figsize=(8,6))\n",
        "sns.heatmap(cm, annot=True, fmt=\"d\", cmap=\"YlGnBu\", xticklabels=[0,1,2,3,4], yticklabels=[0,1,2,3,4])\n",
        "plt.xlabel(\"Predicted\")\n",
        "plt.ylabel(\"Actual\")\n",
        "plt.title(\"Confusion Matrix (Enhanced RandomForest)\")\n",
        "plt.show()\n"
      ],
      "metadata": {
        "colab": {
          "base_uri": "https://localhost:8080/",
          "height": 911
        },
        "id": "Pb8U18NSRvS2",
        "outputId": "b1e7c183-3242-4e70-e2ba-ddb14d2541c2"
      },
      "execution_count": null,
      "outputs": [
        {
          "output_type": "stream",
          "name": "stdout",
          "text": [
            "+----------+-----+\n",
            "|prediction|label|\n",
            "+----------+-----+\n",
            "|       0.0|    0|\n",
            "|       0.0|    0|\n",
            "|       0.0|    0|\n",
            "|       0.0|    0|\n",
            "|       0.0|    0|\n",
            "|       0.0|    0|\n",
            "|       0.0|    0|\n",
            "|       0.0|    0|\n",
            "|       1.0|    2|\n",
            "|       0.0|    0|\n",
            "+----------+-----+\n",
            "only showing top 10 rows\n",
            "\n",
            "✅ Accuracy       : 0.6596\n",
            "🎯 F1 Score       : 0.6150\n",
            "🧭 Precision      : 0.6279\n",
            "🧪 Recall         : 0.6596\n"
          ]
        },
        {
          "output_type": "display_data",
          "data": {
            "text/plain": [
              "<Figure size 800x600 with 2 Axes>"
            ],
            "image/png": "[encoded data removed]"
          },
          "metadata": {}
        }
      ]
    },
    {
      "cell_type": "markdown",
      "source": [
        "محاسبه وزن کلاس معکوس نسبت به تعداد نمونه"
      ],
      "metadata": {
        "id": "IaP0IkqTS2q1"
      }
    },
    {
      "cell_type": "code",
      "source": [
        "from pyspark.sql import Window\n",
        "from pyspark.sql.functions import col, count, lit, when\n",
        "\n",
        "# محاسبه تعداد هر کلاس\n",
        "label_counts = df_final.groupBy(\"label\").count().toPandas().set_index(\"label\")[\"count\"].to_dict()\n",
        "\n",
        "# ساخت weight برای هر ردیف: weight = 1 / count(label)\n",
        "weight_expr = when(col(\"label\") == 0, 1.0 / label_counts[0]) \\\n",
        "    .when(col(\"label\") == 1, 1.0 / label_counts[1]) \\\n",
        "    .when(col(\"label\") == 2, 1.0 / label_counts[2]) \\\n",
        "    .when(col(\"label\") == 3, 1.0 / label_counts[3]) \\\n",
        "    .when(col(\"label\") == 4, 1.0 / label_counts[4]) \\\n",
        "    .otherwise(1.0)\n",
        "\n",
        "# اضافه کردن weightColumn\n",
        "df_weighted = df_final.withColumn(\"class_weight\", weight_expr)\n"
      ],
      "metadata": {
        "id": "ci0bES1MSyVG"
      },
      "execution_count": null,
      "outputs": []
    },
    {
      "cell_type": "code",
      "source": [
        "from pyspark.ml.classification import RandomForestClassifier\n",
        "\n",
        "# تقسیم با وزن\n",
        "train_data, test_data = df_weighted.randomSplit([0.8, 0.2], seed=42)\n",
        "\n",
        "# مدل با وزن‌دهی\n",
        "rf = RandomForestClassifier(\n",
        "    labelCol=\"label\",\n",
        "    featuresCol=\"features\",\n",
        "    weightCol=\"class_weight\",    #  این خط اضافه شده\n",
        "    numTrees=200,\n",
        "    maxDepth=12,\n",
        "    subsamplingRate=0.85,\n",
        "    featureSubsetStrategy=\"auto\"\n",
        ")\n",
        "\n",
        "model = rf.fit(train_data)\n",
        "predictions = model.transform(test_data)\n",
        "\n",
        "predictions.select(\"prediction\", \"label\").show(10)\n",
        "\n",
        "# 4. ارزیابی چندمعیاری در PySpark\n",
        "eval_acc = MulticlassClassificationEvaluator(labelCol=\"label\", predictionCol=\"prediction\", metricName=\"accuracy\")\n",
        "eval_f1 = MulticlassClassificationEvaluator(labelCol=\"label\", predictionCol=\"prediction\", metricName=\"f1\")\n",
        "eval_prec = MulticlassClassificationEvaluator(labelCol=\"label\", predictionCol=\"prediction\", metricName=\"weightedPrecision\")\n",
        "eval_rec = MulticlassClassificationEvaluator(labelCol=\"label\", predictionCol=\"prediction\", metricName=\"weightedRecall\")\n",
        "\n",
        "print(f\" Accuracy       : {eval_acc.evaluate(predictions):.4f}\")\n",
        "print(f\" F1 Score       : {eval_f1.evaluate(predictions):.4f}\")\n",
        "print(f\" Precision      : {eval_prec.evaluate(predictions):.4f}\")\n",
        "print(f\" Recall         : {eval_rec.evaluate(predictions):.4f}\")\n",
        "\n",
        "# 5. Confusion Matrix (با تبدیل به pandas)\n",
        "y_true = predictions.select(\"label\").toPandas()\n",
        "y_pred = predictions.select(\"prediction\").toPandas()\n",
        "cm = confusion_matrix(y_true, y_pred, labels=[0,1,2,3,4])\n",
        "\n",
        "plt.figure(figsize=(8,6))\n",
        "sns.heatmap(cm, annot=True, fmt=\"d\", cmap=\"YlGnBu\", xticklabels=[0,1,2,3,4], yticklabels=[0,1,2,3,4])\n",
        "plt.xlabel(\"Predicted\")\n",
        "plt.ylabel(\"Actual\")\n",
        "plt.title(\"Confusion Matrix (Enhanced RandomForest)\")\n",
        "plt.show()"
      ],
      "metadata": {
        "colab": {
          "base_uri": "https://localhost:8080/",
          "height": 911
        },
        "id": "5o7XXbWmS3xk",
        "outputId": "86806b50-5a90-4f1e-9d4b-a192352af9e7"
      },
      "execution_count": null,
      "outputs": [
        {
          "output_type": "stream",
          "name": "stdout",
          "text": [
            "+----------+-----+\n",
            "|prediction|label|\n",
            "+----------+-----+\n",
            "|       0.0|    0|\n",
            "|       0.0|    0|\n",
            "|       0.0|    0|\n",
            "|       0.0|    0|\n",
            "|       0.0|    0|\n",
            "|       0.0|    0|\n",
            "|       0.0|    0|\n",
            "|       0.0|    0|\n",
            "|       2.0|    2|\n",
            "|       0.0|    0|\n",
            "+----------+-----+\n",
            "only showing top 10 rows\n",
            "\n",
            " Accuracy       : 0.6596\n",
            " F1 Score       : 0.5979\n",
            " Precision      : 0.5570\n",
            " Recall         : 0.6596\n"
          ]
        },
        {
          "output_type": "display_data",
          "data": {
            "text/plain": [
              "<Figure size 800x600 with 2 Axes>"
            ],
            "image/png": "[encoded data removed]"
          },
          "metadata": {}
        }
      ]
    },
    {
      "cell_type": "markdown",
      "source": [
        "### شبکه عصبی MultilayerPerceptronClassifier با ساختار Pipeline"
      ],
      "metadata": {
        "id": "6yCbtBkOTs2s"
      }
    },
    {
      "cell_type": "code",
      "source": [
        "!pip install pyspark"
      ],
      "metadata": {
        "id": "o3QFJeyaU98i"
      },
      "execution_count": null,
      "outputs": []
    },
    {
      "cell_type": "code",
      "source": [
        "from pyspark.sql import SparkSession\n",
        "\n",
        "# ایجاد SparkSession\n",
        "spark = SparkSession.builder.appName(\"SchemaInspection\").getOrCreate()\n",
        "\n",
        "# بارگذاری مجدد داده\n",
        "df = spark.read.csv(\"/content/heart_disease_uci.csv\", header=True, inferSchema=True)\n",
        "\n",
        "# نمایش ساختار ستون‌ها\n",
        "df.printSchema()\n"
      ],
      "metadata": {
        "colab": {
          "base_uri": "https://localhost:8080/"
        },
        "id": "zStWMdQ2VDXr",
        "outputId": "ce214d4b-b75f-460b-95d2-1707dcc5c15a"
      },
      "execution_count": null,
      "outputs": [
        {
          "output_type": "stream",
          "name": "stdout",
          "text": [
            "root\n",
            " |-- id: integer (nullable = true)\n",
            " |-- age: integer (nullable = true)\n",
            " |-- sex: string (nullable = true)\n",
            " |-- dataset: string (nullable = true)\n",
            " |-- cp: string (nullable = true)\n",
            " |-- trestbps: integer (nullable = true)\n",
            " |-- chol: integer (nullable = true)\n",
            " |-- fbs: boolean (nullable = true)\n",
            " |-- restecg: string (nullable = true)\n",
            " |-- thalch: integer (nullable = true)\n",
            " |-- exang: boolean (nullable = true)\n",
            " |-- oldpeak: double (nullable = true)\n",
            " |-- slope: string (nullable = true)\n",
            " |-- ca: integer (nullable = true)\n",
            " |-- thal: string (nullable = true)\n",
            " |-- num: integer (nullable = true)\n",
            "\n"
          ]
        }
      ]
    },
    {
      "cell_type": "code",
      "source": [
        "from pyspark.sql import SparkSession\n",
        "from pyspark.ml.feature import StringIndexer, VectorAssembler, StandardScaler\n",
        "from pyspark.ml import Pipeline\n",
        "from pyspark.ml.classification import RandomForestClassifier\n",
        "from pyspark.ml.evaluation import MulticlassClassificationEvaluator\n",
        "from sklearn.metrics import classification_report, confusion_matrix\n",
        "import pandas as pd\n",
        "\n",
        "# 1. شروع Spark\n",
        "spark = SparkSession.builder.master(\"local[*]\").appName(\"HeartDiseaseRF\").getOrCreate()\n",
        "\n",
        "# 2. بارگذاری داده\n",
        "df = spark.read.csv(\"/content/heart_disease_uci.csv\", header=True, inferSchema=True)\n",
        "\n",
        "# 3. پاک‌سازی و پرکردن null\n",
        "df = df.fillna({\n",
        "    \"ca\": -1, \"thalch\": -1, \"oldpeak\": -1, \"trestbps\": -1,\n",
        "    \"chol\": -1, \"fbs\": 0, \"exang\": 0,\n",
        "    \"sex\": \"unknown\", \"cp\": \"unknown\", \"restecg\": \"unknown\",\n",
        "    \"slope\": \"unknown\", \"thal\": \"unknown\", \"dataset\": \"unknown\"\n",
        "})\n",
        "\n",
        "# 4. مشخص کردن ویژگی‌ها\n",
        "categorical_cols = [\"sex\", \"cp\", \"restecg\", \"slope\", \"thal\", \"dataset\"]\n",
        "numerical_cols = [\"age\", \"trestbps\", \"chol\", \"fbs\", \"thalch\", \"exang\", \"oldpeak\", \"ca\"]\n",
        "label_col = \"num\"\n",
        "\n",
        "# 5. Index کردن ویژگی‌های متنی\n",
        "indexers = [StringIndexer(inputCol=col, outputCol=col + \"_indexed\", handleInvalid=\"keep\") for col in categorical_cols]\n",
        "\n",
        "# 6. ترکیب همه ویژگی‌ها\n",
        "feature_cols = [col + \"_indexed\" for col in categorical_cols] + numerical_cols\n",
        "assembler = VectorAssembler(inputCols=feature_cols, outputCol=\"features_raw\", handleInvalid=\"keep\")\n",
        "scaler = StandardScaler(inputCol=\"features_raw\", outputCol=\"features\")\n",
        "\n",
        "# 7. مدل RandomForest با پارامترهای قوی‌تر\n",
        "rf = RandomForestClassifier(labelCol=label_col, featuresCol=\"features\", numTrees=200, maxDepth=10, maxBins=64)\n",
        "\n",
        "# 8. ساخت Pipeline\n",
        "pipeline = Pipeline(stages=indexers + [assembler, scaler, rf])\n",
        "\n",
        "# 9. تقسیم داده‌ها\n",
        "train_data, test_data = df.randomSplit([0.8, 0.2], seed=42)\n",
        "\n",
        "# 10. آموزش مدل\n",
        "model = pipeline.fit(train_data)\n",
        "\n",
        "# 11. پیش‌بینی\n",
        "predictions = model.transform(test_data)\n",
        "\n",
        "# 12. ارزیابی دقت\n",
        "evaluator = MulticlassClassificationEvaluator(labelCol=label_col, predictionCol=\"prediction\", metricName=\"accuracy\")\n",
        "accuracy = evaluator.evaluate(predictions)\n",
        "\n",
        "# 13. نمایش متریک‌ها\n",
        "print(f\"\\n✅ Accuracy       : {accuracy:.4f}\")\n",
        "\n",
        "# تبدیل به Pandas\n",
        "y_true = predictions.select(label_col).toPandas()\n",
        "y_pred = predictions.select(\"prediction\").toPandas()\n",
        "\n",
        "# نمایش گزارش\n",
        "print(\"🎯 F1 Score       :\", f\"{classification_report(y_true, y_pred, output_dict=True)['weighted avg']['f1-score']:.4f}\")\n",
        "print(\"🧭 Precision      :\", f\"{classification_report(y_true, y_pred, output_dict=True)['weighted avg']['precision']:.4f}\")\n",
        "print(\"🧪 Recall         :\", f\"{classification_report(y_true, y_pred, output_dict=True)['weighted avg']['recall']:.4f}\")\n",
        "\n",
        "print(\"\\n📊 Confusion Matrix:\")\n",
        "print(confusion_matrix(y_true, y_pred))\n",
        "\n",
        "print(\"\\n📄 Classification Report:\")\n",
        "print(classification_report(y_true, y_pred))\n"
      ],
      "metadata": {
        "colab": {
          "base_uri": "https://localhost:8080/"
        },
        "id": "wSHY1voVTsKP",
        "outputId": "95e83f07-35fd-462a-8710-87093b221955"
      },
      "execution_count": null,
      "outputs": [
        {
          "output_type": "stream",
          "name": "stdout",
          "text": [
            "\n",
            "✅ Accuracy       : 0.5973\n",
            "🎯 F1 Score       : 0.5748\n",
            "🧭 Precision      : 0.5640\n",
            "🧪 Recall         : 0.5973\n",
            "\n",
            "📊 Confusion Matrix:\n",
            "[[52 10  2  2  0]\n",
            " [ 9 28  2  3  0]\n",
            " [ 2 12  3  2  0]\n",
            " [ 4  2  3  6  1]\n",
            " [ 1  4  1  0  0]]\n",
            "\n",
            "📄 Classification Report:\n",
            "              precision    recall  f1-score   support\n",
            "\n",
            "           0       0.76      0.79      0.78        66\n",
            "           1       0.50      0.67      0.57        42\n",
            "           2       0.27      0.16      0.20        19\n",
            "           3       0.46      0.38      0.41        16\n",
            "           4       0.00      0.00      0.00         6\n",
            "\n",
            "    accuracy                           0.60       149\n",
            "   macro avg       0.40      0.40      0.39       149\n",
            "weighted avg       0.56      0.60      0.57       149\n",
            "\n"
          ]
        }
      ]
    },
    {
      "cell_type": "markdown",
      "source": [
        "### Undersampling باعث از دست رفتن اطلاعات"
      ],
      "metadata": {
        "id": "G9tkRunXMBHQ"
      }
    },
    {
      "cell_type": "code",
      "source": [
        "from pyspark.sql.functions import col\n",
        "from pyspark.ml.classification import RandomForestClassifier\n",
        "from pyspark.ml.evaluation import MulticlassClassificationEvaluator\n",
        "from sklearn.metrics import classification_report, confusion_matrix\n",
        "import matplotlib.pyplot as plt\n",
        "import seaborn as sns\n",
        "\n",
        "# 1. متعادل‌سازی داده‌ها: undersample کلاس 0\n",
        "minor_classes = df_final.filter(col(\"label\") != 0)\n",
        "major_class_sample = df_final.filter(col(\"label\") == 0).sample(withReplacement=False, fraction=0.35, seed=42)\n",
        "balanced_df = minor_classes.union(major_class_sample)\n",
        "\n",
        "# 2. تقسیم داده‌ها\n",
        "train_data, test_data = balanced_df.randomSplit([0.8, 0.2], seed=42)\n",
        "\n",
        "# 3. آموزش مدل جنگل تصادفی\n",
        "rf = RandomForestClassifier(labelCol=\"label\", featuresCol=\"features\", numTrees=100, maxDepth=8)\n",
        "model = rf.fit(train_data)\n",
        "\n",
        "# 4. پیش‌بینی\n",
        "predictions = model.transform(test_data)\n",
        "predictions.select(\"prediction\", \"label\").show(10)\n",
        "\n",
        "# 5. ارزیابی معیارهای عملکرد\n",
        "eval_acc = MulticlassClassificationEvaluator(labelCol=\"label\", predictionCol=\"prediction\", metricName=\"accuracy\")\n",
        "eval_f1 = MulticlassClassificationEvaluator(labelCol=\"label\", predictionCol=\"prediction\", metricName=\"f1\")\n",
        "eval_prec = MulticlassClassificationEvaluator(labelCol=\"label\", predictionCol=\"prediction\", metricName=\"weightedPrecision\")\n",
        "eval_rec = MulticlassClassificationEvaluator(labelCol=\"label\", predictionCol=\"prediction\", metricName=\"weightedRecall\")\n",
        "\n",
        "print(f\" Accuracy       : {eval_acc.evaluate(predictions):.4f}\")\n",
        "print(f\" F1 Score       : {eval_f1.evaluate(predictions):.4f}\")\n",
        "print(f\" Precision      : {eval_prec.evaluate(predictions):.4f}\")\n",
        "print(f\" Recall         : {eval_rec.evaluate(predictions):.4f}\")\n",
        "\n",
        "# 6. Confusion Matrix\n",
        "y_true = predictions.select(\"label\").toPandas()\n",
        "y_pred = predictions.select(\"prediction\").toPandas()\n",
        "cm = confusion_matrix(y_true, y_pred, labels=[0,1,2,3,4])\n",
        "\n",
        "plt.figure(figsize=(8,6))\n",
        "sns.heatmap(cm, annot=True, fmt=\"d\", cmap=\"Blues\", xticklabels=[0,1,2,3,4], yticklabels=[0,1,2,3,4])\n",
        "plt.xlabel(\"Predicted\")\n",
        "plt.ylabel(\"Actual\")\n",
        "plt.title(\"Confusion Matrix\")\n",
        "plt.show()\n",
        "\n",
        "# 7. گزارش متنی کامل\n",
        "print(\"\\n📄 Classification Report:\")\n",
        "print(classification_report(y_true, y_pred, digits=3))\n"
      ],
      "metadata": {
        "colab": {
          "base_uri": "https://localhost:8080/",
          "height": 1000
        },
        "id": "jax-e8VwIxa6",
        "outputId": "983f3518-9e48-48cd-f1d8-95bd247c65b7"
      },
      "execution_count": null,
      "outputs": [
        {
          "output_type": "stream",
          "name": "stdout",
          "text": [
            "+----------+-----+\n",
            "|prediction|label|\n",
            "+----------+-----+\n",
            "|       0.0|    1|\n",
            "|       1.0|    2|\n",
            "|       0.0|    1|\n",
            "|       1.0|    1|\n",
            "|       0.0|    1|\n",
            "|       1.0|    4|\n",
            "|       1.0|    2|\n",
            "|       0.0|    1|\n",
            "|       2.0|    2|\n",
            "|       1.0|    4|\n",
            "+----------+-----+\n",
            "only showing top 10 rows\n",
            "\n",
            "✅ Accuracy       : 0.2571\n",
            "🎯 F1 Score       : 0.2784\n",
            "🧭 Precision      : 0.3558\n",
            "🧪 Recall         : 0.2571\n"
          ]
        },
        {
          "output_type": "display_data",
          "data": {
            "text/plain": [
              "<Figure size 800x600 with 2 Axes>"
            ],
            "image/png": "[encoded data removed]"
          },
          "metadata": {}
        },
        {
          "output_type": "stream",
          "name": "stdout",
          "text": [
            "\n",
            "📄 Classification Report:\n",
            "              precision    recall  f1-score   support\n",
            "\n",
            "           0      0.556     0.455     0.500        11\n",
            "           1      0.062     0.143     0.087         7\n",
            "           2      0.667     0.250     0.364         8\n",
            "           3      0.143     0.250     0.182         4\n",
            "           4      0.000     0.000     0.000         5\n",
            "\n",
            "    accuracy                          0.257        35\n",
            "   macro avg      0.286     0.219     0.226        35\n",
            "weighted avg      0.356     0.257     0.278        35\n",
            "\n"
          ]
        },
        {
          "output_type": "stream",
          "name": "stderr",
          "text": [
            "/usr/local/lib/python3.11/dist-packages/sklearn/metrics/_classification.py:1565: UndefinedMetricWarning: Precision is ill-defined and being set to 0.0 in labels with no predicted samples. Use `zero_division` parameter to control this behavior.\n",
            "  _warn_prf(average, modifier, f\"{metric.capitalize()} is\", len(result))\n",
            "/usr/local/lib/python3.11/dist-packages/sklearn/metrics/_classification.py:1565: UndefinedMetricWarning: Precision is ill-defined and being set to 0.0 in labels with no predicted samples. Use `zero_division` parameter to control this behavior.\n",
            "  _warn_prf(average, modifier, f\"{metric.capitalize()} is\", len(result))\n",
            "/usr/local/lib/python3.11/dist-packages/sklearn/metrics/_classification.py:1565: UndefinedMetricWarning: Precision is ill-defined and being set to 0.0 in labels with no predicted samples. Use `zero_division` parameter to control this behavior.\n",
            "  _warn_prf(average, modifier, f\"{metric.capitalize()} is\", len(result))\n"
          ]
        }
      ]
    },
    {
      "cell_type": "markdown",
      "source": [
        "### تبدیل مسئله به Binary Classification"
      ],
      "metadata": {
        "id": "bT0MwdEhMDng"
      }
    },
    {
      "cell_type": "code",
      "source": [
        "from pyspark.sql.functions import when, col\n",
        "from pyspark.ml.classification import RandomForestClassifier\n",
        "from pyspark.ml.evaluation import BinaryClassificationEvaluator\n",
        "from sklearn.metrics import classification_report, confusion_matrix\n",
        "import matplotlib.pyplot as plt\n",
        "import seaborn as sns\n",
        "\n",
        "#  1. تبدیل label به باینری: 0 = سالم، 1 = بیمار\n",
        "binary_df = df_final.withColumn(\"binary_label\", when(col(\"label\") == 0, 0).otherwise(1))\n",
        "\n",
        "#  2. تقسیم داده‌ها بدون حذف هیچ‌چیز\n",
        "train_data, test_data = binary_df.randomSplit([0.8, 0.2], seed=42)\n",
        "\n",
        "#  3. مدل Random Forest باینری\n",
        "rf = RandomForestClassifier(labelCol=\"binary_label\", featuresCol=\"features\", numTrees=100, maxDepth=8)\n",
        "model = rf.fit(train_data)\n",
        "\n",
        "#  4. پیش‌بینی\n",
        "predictions = model.transform(test_data)\n",
        "predictions.select(\"prediction\", \"binary_label\").show(10)\n",
        "\n",
        "#  5. ارزیابی با BinaryClassificationEvaluator\n",
        "evaluator = BinaryClassificationEvaluator(labelCol=\"binary_label\", rawPredictionCol=\"rawPrediction\", metricName=\"areaUnderROC\")\n",
        "roc_auc = evaluator.evaluate(predictions)\n",
        "\n",
        "print(f\" ROC AUC: {roc_auc:.4f}\")\n",
        "\n",
        "#  6. محاسبه معیارهای دقیق‌تر\n",
        "y_true = predictions.select(\"binary_label\").toPandas()\n",
        "y_pred = predictions.select(\"prediction\").toPandas()\n",
        "\n",
        "cm = confusion_matrix(y_true, y_pred, labels=[0,1])\n",
        "plt.figure(figsize=(6,5))\n",
        "sns.heatmap(cm, annot=True, fmt=\"d\", cmap=\"Greens\", xticklabels=[\"Healthy\", \"Disease\"], yticklabels=[\"Healthy\", \"Disease\"])\n",
        "plt.xlabel(\"Predicted\")\n",
        "plt.ylabel(\"Actual\")\n",
        "plt.title(\"Binary Confusion Matrix\")\n",
        "plt.show()\n",
        "\n",
        "print(\"\\n Binary Classification Report:\")\n",
        "print(classification_report(y_true, y_pred, target_names=[\"Healthy\", \"Disease\"], digits=3))\n"
      ],
      "metadata": {
        "colab": {
          "base_uri": "https://localhost:8080/",
          "height": 973
        },
        "id": "Yp4FBvIJL2FJ",
        "outputId": "59222695-979e-4b12-b387-d0634dbe761d"
      },
      "execution_count": null,
      "outputs": [
        {
          "output_type": "stream",
          "name": "stdout",
          "text": [
            "+----------+------------+\n",
            "|prediction|binary_label|\n",
            "+----------+------------+\n",
            "|       0.0|           0|\n",
            "|       0.0|           0|\n",
            "|       0.0|           0|\n",
            "|       0.0|           0|\n",
            "|       0.0|           0|\n",
            "|       0.0|           0|\n",
            "|       0.0|           0|\n",
            "|       0.0|           0|\n",
            "|       1.0|           1|\n",
            "|       0.0|           0|\n",
            "+----------+------------+\n",
            "only showing top 10 rows\n",
            "\n",
            "🔵 ROC AUC: 0.8608\n"
          ]
        },
        {
          "output_type": "display_data",
          "data": {
            "text/plain": [
              "<Figure size 600x500 with 2 Axes>"
            ],
            "image/png": "[encoded data removed]"
          },
          "metadata": {}
        },
        {
          "output_type": "stream",
          "name": "stdout",
          "text": [
            "\n",
            "📄 Binary Classification Report:\n",
            "              precision    recall  f1-score   support\n",
            "\n",
            "     Healthy      0.818     0.900     0.857        30\n",
            "     Disease      0.786     0.647     0.710        17\n",
            "\n",
            "    accuracy                          0.809        47\n",
            "   macro avg      0.802     0.774     0.783        47\n",
            "weighted avg      0.806     0.809     0.804        47\n",
            "\n"
          ]
        }
      ]
    },
    {
      "cell_type": "code",
      "source": [
        "from pyspark.ml.classification import DecisionTreeClassifier\n",
        "from pyspark.ml.evaluation import MulticlassClassificationEvaluator\n",
        "from sklearn.metrics import classification_report, confusion_matrix\n",
        "import matplotlib.pyplot as plt\n",
        "import seaborn as sns\n",
        "from pyspark.sql.functions import col\n",
        "\n",
        "# 1. استفاده از تمام داده بدون حذف\n",
        "train_data, test_data = df_final.randomSplit([0.8, 0.2], seed=42)\n",
        "\n",
        "# 2. مدل Decision Tree برای چندکلاسه\n",
        "dt = DecisionTreeClassifier(labelCol=\"label\", featuresCol=\"features\", maxDepth=8)\n",
        "model = dt.fit(train_data)\n",
        "\n",
        "# 3. پیش‌بینی\n",
        "predictions = model.transform(test_data)\n",
        "predictions.select(\"prediction\", \"label\").show(10)\n",
        "\n",
        "# 4. معیارهای ارزیابی\n",
        "eval_acc = MulticlassClassificationEvaluator(labelCol=\"label\", predictionCol=\"prediction\", metricName=\"accuracy\")\n",
        "eval_f1 = MulticlassClassificationEvaluator(labelCol=\"label\", predictionCol=\"prediction\", metricName=\"f1\")\n",
        "eval_prec = MulticlassClassificationEvaluator(labelCol=\"label\", predictionCol=\"prediction\", metricName=\"weightedPrecision\")\n",
        "eval_rec = MulticlassClassificationEvaluator(labelCol=\"label\", predictionCol=\"prediction\", metricName=\"weightedRecall\")\n",
        "\n",
        "print(f\" Accuracy       : {eval_acc.evaluate(predictions):.4f}\")\n",
        "print(f\" F1 Score       : {eval_f1.evaluate(predictions):.4f}\")\n",
        "print(f\" Precision      : {eval_prec.evaluate(predictions):.4f}\")\n",
        "print(f\" Recall         : {eval_rec.evaluate(predictions):.4f}\")\n",
        "\n",
        "# 5. Confusion Matrix\n",
        "y_true = predictions.select(\"label\").toPandas()\n",
        "y_pred = predictions.select(\"prediction\").toPandas()\n",
        "cm = confusion_matrix(y_true, y_pred, labels=[0,1,2,3,4])\n",
        "\n",
        "plt.figure(figsize=(8,6))\n",
        "sns.heatmap(cm, annot=True, fmt=\"d\", cmap=\"YlGnBu\", xticklabels=[0,1,2,3,4], yticklabels=[0,1,2,3,4])\n",
        "plt.xlabel(\"Predicted Label\")\n",
        "plt.ylabel(\"True Label\")\n",
        "plt.title(\"Multi-class Confusion Matrix\")\n",
        "plt.show()\n",
        "\n",
        "# 6. گزارش دقیق‌تر\n",
        "print(\"\\n Multi-class Classification Report:\")\n",
        "print(classification_report(y_true, y_pred, digits=3))\n"
      ],
      "metadata": {
        "colab": {
          "base_uri": "https://localhost:8080/",
          "height": 1000
        },
        "id": "ZA-dXurJNvPH",
        "outputId": "b1617c75-23bc-4588-dac3-22476117c693"
      },
      "execution_count": null,
      "outputs": [
        {
          "output_type": "stream",
          "name": "stdout",
          "text": [
            "+----------+-----+\n",
            "|prediction|label|\n",
            "+----------+-----+\n",
            "|       0.0|    0|\n",
            "|       0.0|    0|\n",
            "|       0.0|    0|\n",
            "|       0.0|    0|\n",
            "|       0.0|    0|\n",
            "|       0.0|    0|\n",
            "|       0.0|    0|\n",
            "|       0.0|    0|\n",
            "|       2.0|    2|\n",
            "|       0.0|    0|\n",
            "+----------+-----+\n",
            "only showing top 10 rows\n",
            "\n",
            "✅ Accuracy       : 0.5957\n",
            "🎯 F1 Score       : 0.6011\n",
            "🧭 Precision      : 0.6302\n",
            "🧪 Recall         : 0.5957\n"
          ]
        },
        {
          "output_type": "display_data",
          "data": {
            "text/plain": [
              "<Figure size 800x600 with 2 Axes>"
            ],
            "image/png": "[encoded data removed]"
          },
          "metadata": {}
        },
        {
          "output_type": "stream",
          "name": "stdout",
          "text": [
            "\n",
            "📄 Multi-class Classification Report:\n",
            "              precision    recall  f1-score   support\n",
            "\n",
            "           0      0.800     0.800     0.800        30\n",
            "           1      0.400     0.200     0.267        10\n",
            "           2      0.143     0.500     0.222         2\n",
            "           3      0.333     0.250     0.286         4\n",
            "           4      0.000     0.000     0.000         1\n",
            "\n",
            "    accuracy                          0.596        47\n",
            "   macro avg      0.335     0.350     0.315        47\n",
            "weighted avg      0.630     0.596     0.601        47\n",
            "\n"
          ]
        }
      ]
    },
    {
      "cell_type": "markdown",
      "source": [
        "### XGBoost"
      ],
      "metadata": {
        "id": "RtLgqYAoP-Dt"
      }
    },
    {
      "cell_type": "code",
      "source": [
        "# نصب XGBoost در Colab\n",
        "!pip install -q xgboost\n",
        "\n",
        "# 1. بارگذاری داده\n",
        "import pandas as pd\n",
        "from sklearn.preprocessing import LabelEncoder\n",
        "from sklearn.model_selection import train_test_split\n",
        "from sklearn.metrics import classification_report, confusion_matrix, accuracy_score\n",
        "import xgboost as xgb\n",
        "import matplotlib.pyplot as plt\n",
        "import seaborn as sns\n",
        "\n",
        "df = pd.read_csv(\"/content/heart_disease_uci.csv\")\n",
        "\n",
        "# 2. حذف ID و بررسی NA\n",
        "df = df.drop(columns=[\"id\"], errors=\"ignore\")\n",
        "df = df.dropna()\n",
        "\n",
        "# 3. Label Encoding برای ستون‌های متنی\n",
        "label_cols = df.select_dtypes(include=\"object\").columns\n",
        "le_dict = {}\n",
        "for col in label_cols:\n",
        "    le = LabelEncoder()\n",
        "    df[col] = le.fit_transform(df[col])\n",
        "    le_dict[col] = le\n",
        "\n",
        "# 4. تعریف X و y\n",
        "X = df.drop(\"num\", axis=1)\n",
        "y = df[\"num\"]  # چندکلاسه: 0 تا 4\n",
        "\n",
        "# 5. تقسیم داده\n",
        "X_train, X_test, y_train, y_test = train_test_split(X, y, test_size=0.2, stratify=y, random_state=42)\n",
        "\n",
        "# 6. مدل XGBoost\n",
        "model = xgb.XGBClassifier(\n",
        "    objective='multi:softprob',\n",
        "    num_class=5,\n",
        "    eval_metric='mlogloss',\n",
        "    use_label_encoder=False,\n",
        "    max_depth=5,\n",
        "    n_estimators=100,\n",
        "    learning_rate=0.1\n",
        ")\n",
        "model.fit(X_train, y_train)\n",
        "\n",
        "# 7. پیش‌بینی و ارزیابی\n",
        "y_pred = model.predict(X_test)\n",
        "print(f\" Accuracy: {accuracy_score(y_test, y_pred):.4f}\\n\")\n",
        "print(\" Classification Report:\")\n",
        "print(classification_report(y_test, y_pred, digits=3))\n",
        "\n",
        "# 8. Confusion Matrix\n",
        "cm = confusion_matrix(y_test, y_pred)\n",
        "plt.figure(figsize=(8,6))\n",
        "sns.heatmap(cm, annot=True, fmt=\"d\", cmap=\"YlGnBu\", xticklabels=range(5), yticklabels=range(5))\n",
        "plt.xlabel(\"Predicted\")\n",
        "plt.ylabel(\"Actual\")\n",
        "plt.title(\"Confusion Matrix (XGBoost Multi-class)\")\n",
        "plt.show()\n"
      ],
      "metadata": {
        "colab": {
          "base_uri": "https://localhost:8080/",
          "height": 894
        },
        "id": "QPtSkrGmPL0g",
        "outputId": "af8362f4-8955-4a5a-905f-58eb04129a93"
      },
      "execution_count": null,
      "outputs": [
        {
          "output_type": "stream",
          "name": "stderr",
          "text": [
            "/usr/local/lib/python3.11/dist-packages/xgboost/core.py:158: UserWarning: [10:57:54] WARNING: /workspace/src/learner.cc:740: \n",
            "Parameters: { \"use_label_encoder\" } are not used.\n",
            "\n",
            "  warnings.warn(smsg, UserWarning)\n"
          ]
        },
        {
          "output_type": "stream",
          "name": "stdout",
          "text": [
            " Accuracy: 0.5833\n",
            "\n",
            " Classification Report:\n",
            "              precision    recall  f1-score   support\n",
            "\n",
            "           0      0.853     0.906     0.879        32\n",
            "           1      0.222     0.364     0.276        11\n",
            "           2      0.250     0.143     0.182         7\n",
            "           3      0.333     0.143     0.200         7\n",
            "           4      0.000     0.000     0.000         3\n",
            "\n",
            "    accuracy                          0.583        60\n",
            "   macro avg      0.332     0.311     0.307        60\n",
            "weighted avg      0.564     0.583     0.564        60\n",
            "\n"
          ]
        },
        {
          "output_type": "display_data",
          "data": {
            "text/plain": [
              "<Figure size 800x600 with 2 Axes>"
            ],
            "image/png": "[encoded data removed]"
          },
          "metadata": {}
        }
      ]
    },
    {
      "cell_type": "markdown",
      "source": [
        "### OverSample + class_weight"
      ],
      "metadata": {
        "id": "FqBieLMsP8M3"
      }
    },
    {
      "cell_type": "code",
      "source": [
        "!pip install -q imbalanced-learn\n",
        "\n",
        "from sklearn.ensemble import RandomForestClassifier\n",
        "from sklearn.model_selection import train_test_split\n",
        "from sklearn.metrics import classification_report, confusion_matrix, accuracy_score\n",
        "from imblearn.over_sampling import SMOTE\n",
        "import pandas as pd\n",
        "import matplotlib.pyplot as plt\n",
        "import seaborn as sns\n",
        "from sklearn.preprocessing import LabelEncoder\n",
        "\n",
        "# بارگذاری داده\n",
        "df = pd.read_csv(\"/content/heart_disease_uci.csv\")\n",
        "df = df.drop(columns=[\"id\"], errors=\"ignore\").dropna()\n",
        "\n",
        "# Label Encoding\n",
        "for col in df.select_dtypes(\"object\").columns:\n",
        "    df[col] = LabelEncoder().fit_transform(df[col])\n",
        "\n",
        "X = df.drop(\"num\", axis=1)\n",
        "y = df[\"num\"]\n",
        "\n",
        "# SMOTE روی کل داده\n",
        "sm = SMOTE(random_state=42)\n",
        "X_resampled, y_resampled = sm.fit_resample(X, y)\n",
        "\n",
        "# تقسیم train/test\n",
        "X_train, X_test, y_train, y_test = train_test_split(X_resampled, y_resampled, test_size=0.2, random_state=42, stratify=y_resampled)\n",
        "\n",
        "# مدل جنگل تصادفی با وزن‌دهی خودکار\n",
        "rf = RandomForestClassifier(class_weight='balanced', n_estimators=100, max_depth=8, random_state=42)\n",
        "rf.fit(X_train, y_train)\n",
        "\n",
        "# ارزیابی\n",
        "y_pred = rf.predict(X_test)\n",
        "print(f\" Accuracy: {accuracy_score(y_test, y_pred):.4f}\\n\")\n",
        "print(\" Classification Report:\")\n",
        "print(classification_report(y_test, y_pred, digits=3))\n",
        "\n",
        "# ماتریس خطا\n",
        "cm = confusion_matrix(y_test, y_pred)\n",
        "plt.figure(figsize=(8,6))\n",
        "sns.heatmap(cm, annot=True, fmt=\"d\", cmap=\"BuGn\", xticklabels=range(5), yticklabels=range(5))\n",
        "plt.xlabel(\"Predicted\")\n",
        "plt.ylabel(\"True\")\n",
        "plt.title(\"Confusion Matrix (RF + SMOTE + Class Weights)\")\n",
        "plt.show()\n"
      ],
      "metadata": {
        "colab": {
          "base_uri": "https://localhost:8080/",
          "height": 824
        },
        "id": "Q6mSHFs8P7P-",
        "outputId": "1996007a-8974-4f22-b599-2c69123dbeea"
      },
      "execution_count": null,
      "outputs": [
        {
          "output_type": "stream",
          "name": "stdout",
          "text": [
            "✅ Accuracy: 0.8000\n",
            "\n",
            "📄 Classification Report:\n",
            "              precision    recall  f1-score   support\n",
            "\n",
            "           0      0.812     0.812     0.812        32\n",
            "           1      0.697     0.719     0.708        32\n",
            "           2      0.857     0.750     0.800        32\n",
            "           3      0.962     0.781     0.862        32\n",
            "           4      0.732     0.938     0.822        32\n",
            "\n",
            "    accuracy                          0.800       160\n",
            "   macro avg      0.812     0.800     0.801       160\n",
            "weighted avg      0.812     0.800     0.801       160\n",
            "\n"
          ]
        },
        {
          "output_type": "display_data",
          "data": {
            "text/plain": [
              "<Figure size 800x600 with 2 Axes>"
            ],
            "image/png": "[encoded data removed]"
          },
          "metadata": {}
        }
      ]
    },
    {
      "cell_type": "markdown",
      "source": [
        "# **2-**"
      ],
      "metadata": {
        "id": "XnAGRl5Has4T"
      }
    },
    {
      "cell_type": "markdown",
      "source": [
        "# Extra Point"
      ],
      "metadata": {
        "id": "_qEfmO9zd8Ds"
      }
    },
    {
      "cell_type": "code",
      "source": [
        "!pkill -f Worker\n",
        "!pkill -f Master\n",
        "\n",
        "!rm -rf /content/spark-worker-1 /content/spark-worker-2\n"
      ],
      "metadata": {
        "id": "A4WlKXDvpSdj"
      },
      "execution_count": null,
      "outputs": []
    },
    {
      "cell_type": "code",
      "source": [
        "!/content/spark-3.1.2-bin-hadoop2.7/sbin/start-master.sh\n",
        "!hostname\n"
      ],
      "metadata": {
        "colab": {
          "base_uri": "https://localhost:8080/"
        },
        "id": "KUKblRiAkKeO",
        "outputId": "a0691405-2216-4ff6-f462-6e9376f5f012"
      },
      "execution_count": 2,
      "outputs": [
        {
          "output_type": "stream",
          "name": "stdout",
          "text": [
            "starting org.apache.spark.deploy.master.Master, logging to /content/spark-3.1.2-bin-hadoop2.7/logs/spark--org.apache.spark.deploy.master.Master-1-9a59076b2ff3.out\n",
            "9a59076b2ff3\n"
          ]
        }
      ]
    },
    {
      "cell_type": "code",
      "source": [
        "!nohup /content/spark-3.1.2-bin-hadoop2.7/sbin/start-worker.sh \\\n",
        "  --webui-port 8081 \\\n",
        "  --work-dir /content/spark-worker-1 \\\n",
        "  spark://f618f15ce7f4:7077 > /dev/null 2>&1 &\n",
        "\n",
        "!nohup /content/spark-3.1.2-bin-hadoop2.7/sbin/start-worker.sh \\\n",
        "  --webui-port 8082 \\\n",
        "  --work-dir /content/spark-worker-2 \\\n",
        "  spark://f618f15ce7f4:7077 > /dev/null 2>&1 &\n"
      ],
      "metadata": {
        "id": "nD6p8OKYpt20"
      },
      "execution_count": 3,
      "outputs": []
    },
    {
      "cell_type": "code",
      "source": [
        "!jps"
      ],
      "metadata": {
        "colab": {
          "base_uri": "https://localhost:8080/"
        },
        "id": "IScmimlApyf7",
        "outputId": "0ddede21-74ac-451a-cf86-f75ea4a12b54"
      },
      "execution_count": 4,
      "outputs": [
        {
          "output_type": "stream",
          "name": "stdout",
          "text": [
            "2337 Worker\n",
            "2322 Jps\n",
            "2236 Master\n",
            "2300 Worker\n"
          ]
        }
      ]
    },
    {
      "cell_type": "code",
      "source": [
        "!ls /content/spark-3.1.2-bin-hadoop2.7/logs/\n",
        "!ps -ef | grep spark | grep Worker\n"
      ],
      "metadata": {
        "colab": {
          "base_uri": "https://localhost:8080/"
        },
        "id": "u9bong7rqaia",
        "outputId": "df20b0af-6c0f-43a1-cefa-9caf132af2ef"
      },
      "execution_count": 5,
      "outputs": [
        {
          "output_type": "stream",
          "name": "stdout",
          "text": [
            "spark--org.apache.spark.deploy.master.Master-1-9a59076b2ff3.out\n",
            "spark--org.apache.spark.deploy.worker.Worker-1-9a59076b2ff3.out\n",
            "spark--org.apache.spark.deploy.worker.Worker-1-9a59076b2ff3.out.1\n",
            "root        2295    2294  0 12:52 ?        00:00:00 bash /content/spark-3.1.2-bin-hadoop2.7/sbin/spark-daemon.sh start org.apache.spark.deploy.worker.Worker 1 --webui-port 8081 --webui-port 8081 --work-dir /content/spark-worker-1 spark://f618f15ce7f4:7077\n",
            "root        2300    2295 31 12:52 ?        00:00:00 /usr/lib/jvm/java-8-openjdk-amd64/bin/java -cp /content/spark-3.1.2-bin-hadoop2.7/conf/:/content/spark-3.1.2-bin-hadoop2.7/jars/* -Xmx1g org.apache.spark.deploy.worker.Worker --webui-port 8081 --webui-port 8081 --work-dir /content/spark-worker-1 spark://f618f15ce7f4:7077\n",
            "root        2317    2312  0 12:52 ?        00:00:00 bash /content/spark-3.1.2-bin-hadoop2.7/sbin/spark-daemon.sh start org.apache.spark.deploy.worker.Worker 1 --webui-port 8081 --webui-port 8082 --work-dir /content/spark-worker-2 spark://f618f15ce7f4:7077\n",
            "root        2337    2317 20 12:52 ?        00:00:00 /usr/lib/jvm/java-8-openjdk-amd64/bin/java -cp /content/spark-3.1.2-bin-hadoop2.7/conf/:/content/spark-3.1.2-bin-hadoop2.7/jars/* -Xmx1g org.apache.spark.deploy.worker.Worker --webui-port 8081 --webui-port 8082 --work-dir /content/spark-worker-2 spark://f618f15ce7f4:7077\n",
            "root        2425     464  0 12:52 ?        00:00:00 /bin/bash -c ps -ef | grep spark | grep Worker\n"
          ]
        }
      ]
    },
    {
      "cell_type": "code",
      "source": [
        "import findspark\n",
        "findspark.init()\n",
        "\n",
        "from pyspark.sql import SparkSession\n",
        "\n",
        "# اتصال به Master در حالت Cluster\n",
        "spark = SparkSession.builder \\\n",
        "    .appName(\"HeartDiseaseClassification\") \\\n",
        "    .master(\"spark://9a59076b2ff3:7077\") \\\n",
        "    .config(\"spark.executor.memory\", \"1g\") \\\n",
        "    .config(\"spark.driver.memory\", \"1g\") \\\n",
        "    .getOrCreate()\n"
      ],
      "metadata": {
        "id": "f0ROvccEtYtr"
      },
      "execution_count": 6,
      "outputs": []
    },
    {
      "cell_type": "code",
      "source": [
        "df = spark.read.csv(\"/content/heart_disease_uci.csv\", header=True, inferSchema=True)\n",
        "df.printSchema()\n",
        "df.show(5)"
      ],
      "metadata": {
        "id": "eumpLQgouXox"
      },
      "execution_count": null,
      "outputs": []
    },
    {
      "cell_type": "code",
      "source": [
        "from pyspark.sql.functions import col\n",
        "from pyspark.ml.feature import StringIndexer, VectorAssembler\n",
        "from pyspark.ml import Pipeline\n",
        "\n",
        "df = df.dropna(how=\"any\")  # حذف ردیف‌های ناقص\n",
        "\n",
        "# حذف ستون‌های بی‌مصرف\n",
        "df = df.drop(\"id\", \"dataset\")\n",
        "\n",
        "# ستون هدف (label)\n",
        "label_col = \"num\"\n",
        "\n",
        "# ستون‌های عددی (به جز label)\n",
        "numeric_cols = ['age', 'trestbps', 'chol', 'thalch', 'oldpeak', 'ca']\n",
        "\n",
        "# ستون‌های Boolean (True/False)\n",
        "boolean_cols = ['fbs', 'exang']\n",
        "\n",
        "# ستون‌های متنی که باید index بشن\n",
        "categorical_cols = ['sex', 'cp', 'restecg', 'slope', 'thal']\n",
        "\n",
        "# StringIndexer برای ستون‌های متنی\n",
        "indexers = [StringIndexer(inputCol=col, outputCol=col + \"_idx\", handleInvalid=\"keep\") for col in categorical_cols]\n",
        "\n",
        "# Index کردن ستون هدف (در صورت نیاز، ولی چون num عددیه، لازم نیست)\n",
        "# اگر بخوای کلاس‌بندی باینری کنی (0 vs بقیه)، اینجا می‌تونی اون کارو بکنی\n",
        "\n",
        "# تمام ویژگی‌ها نهایی برای مدل\n",
        "final_features = numeric_cols + boolean_cols + [c + \"_idx\" for c in categorical_cols]\n",
        "\n",
        "# بردارساز\n",
        "assembler = VectorAssembler(inputCols=final_features, outputCol=\"features\")\n",
        "\n",
        "# Pipeline کامل\n",
        "pipeline = Pipeline(stages=indexers + [assembler])\n",
        "processed_df = pipeline.fit(df).transform(df).select(\"features\", col(label_col).alias(\"label\"))\n",
        "\n",
        "# نمایش نمونه‌ای از داده نهایی\n",
        "processed_df.show(5, truncate=False)\n"
      ],
      "metadata": {
        "id": "gXR2FFi0uoUI"
      },
      "execution_count": null,
      "outputs": []
    },
    {
      "cell_type": "code",
      "source": [
        "train_data, test_data = processed_df.randomSplit([0.8, 0.2], seed=42)\n",
        "\n",
        "# from pyspark.ml.classification import DecisionTreeClassifier\n",
        "# dt = DecisionTreeClassifier(labelCol=\"label\", featuresCol=\"features\")\n",
        "\n",
        "from pyspark.ml.classification import RandomForestClassifier\n",
        "rf = RandomForestClassifier(labelCol=\"label\", featuresCol=\"features\", numTrees=100, maxDepth=10)\n",
        "\n",
        "\n",
        "spark.sparkContext.setLogLevel(\"INFO\")\n",
        "\n",
        "model = rf.fit(train_data)\n"
      ],
      "metadata": {
        "id": "O7i3KyOSu4xX"
      },
      "execution_count": null,
      "outputs": []
    },
    {
      "cell_type": "code",
      "source": [
        "print(\"Train Partitions:\", train_data.rdd.getNumPartitions())\n",
        "print(\"Test  Partitions:\", test_data.rdd.getNumPartitions())\n"
      ],
      "metadata": {
        "id": "UiJfO12SoPBZ"
      },
      "execution_count": null,
      "outputs": []
    },
    {
      "cell_type": "code",
      "source": [
        "train_data.rdd.map(lambda x: (x, spark.sparkContext._jvm.java.lang.Thread.currentThread().getName())).take(5)"
      ],
      "metadata": {
        "id": "THqcJOSooRL5"
      },
      "execution_count": null,
      "outputs": []
    },
    {
      "cell_type": "code",
      "source": [
        "# نصب ngrok\n",
        "!pip install -q pyngrok\n",
        "\n",
        "# # اجرای Master (در پورت 8080)\n",
        "# !/content/spark-3.1.2-bin-hadoop2.7/sbin/stop-master.sh\n",
        "# !/content/spark-3.1.2-bin-hadoop2.7/sbin/start-master.sh\n",
        "\n",
        "# پیدا کردن hostname برای Workerها\n",
        "import subprocess\n",
        "HOSTNAME = subprocess.check_output(\"hostname\", shell=True).decode(\"utf-8\").strip()\n",
        "\n",
        "# # اجرای دو Worker با پورت‌های متفاوت و مسیر کار متفاوت\n",
        "# !mkdir -p /content/spark-worker-1\n",
        "# !mkdir -p /content/spark-worker-2\n",
        "# !/content/spark-3.1.2-bin-hadoop2.7/sbin/start-worker.sh --webui-port 8081 --work-dir /content/spark-worker-1 spark://$HOSTNAME:7077\n",
        "# !/content/spark-3.1.2-bin-hadoop2.7/sbin/start-worker.sh --webui-port 8082 --work-dir /content/spark-worker-2 spark://$HOSTNAME:7077\n",
        "\n",
        "# اجرای ngrok برای پورت 8080 (Spark Master UI)\n",
        "from pyngrok import ngrok\n",
        "\n",
        "# بستن تونل‌های قبلی در صورت وجود\n",
        "ngrok.kill()\n",
        "\n",
        "# راه‌اندازی تونل برای پورت 8080\n",
        "public_url = ngrok.connect(8080)\n",
        "print(f\" Spark Master UI Link: {public_url}\")\n"
      ],
      "metadata": {
        "id": "dTYXDjQioaXb"
      },
      "execution_count": null,
      "outputs": []
    },
    {
      "cell_type": "code",
      "source": [
        "predictions = model.transform(test_data)\n",
        "\n",
        "from pyspark.ml.evaluation import MulticlassClassificationEvaluator\n",
        "\n",
        "evaluator = MulticlassClassificationEvaluator(labelCol=\"label\", predictionCol=\"prediction\", metricName=\"accuracy\")\n",
        "accuracy = evaluator.evaluate(predictions)\n",
        "\n",
        "f1 = MulticlassClassificationEvaluator(labelCol=\"label\", predictionCol=\"prediction\", metricName=\"f1\").evaluate(predictions)\n",
        "precision = MulticlassClassificationEvaluator(labelCol=\"label\", predictionCol=\"prediction\", metricName=\"weightedPrecision\").evaluate(predictions)\n",
        "recall = MulticlassClassificationEvaluator(labelCol=\"label\", predictionCol=\"prediction\", metricName=\"weightedRecall\").evaluate(predictions)\n",
        "\n",
        "print(f\" Accuracy in Cluster Mode : {accuracy:.4f}\")\n",
        "print(f\" F1 Score in Cluster Mode: {f1:.4f}\")\n",
        "print(f\" Precision in Cluster Mode: {precision:.4f}\")\n",
        "print(f\" Recall in Cluster Mode: {recall:.4f}\")\n",
        "\n",
        "\n"
      ],
      "metadata": {
        "colab": {
          "base_uri": "https://localhost:8080/"
        },
        "id": "c55izlwBu91Q",
        "outputId": "21817af2-8da6-45ef-bd05-4a1c63d5ee3d"
      },
      "execution_count": null,
      "outputs": [
        {
          "output_type": "stream",
          "name": "stdout",
          "text": [
            " Accuracy in Cluster Mode : 0.5532\n",
            " F1 Score in Cluster Mode: 0.5176\n",
            " Precision in Cluster Mode: 0.5300\n",
            " Recall in Cluster Mode: 0.5532\n"
          ]
        }
      ]
    },
    {
      "cell_type": "markdown",
      "source": [
        "با 2 کلاسه"
      ],
      "metadata": {
        "id": "AEc_evli85nm"
      }
    },
    {
      "cell_type": "code",
      "source": [
        "from pyspark.sql.functions import col, when\n",
        "from pyspark.ml.feature import StringIndexer, VectorAssembler\n",
        "from pyspark.ml import Pipeline\n",
        "from pyspark.ml.classification import GBTClassifier\n",
        "from pyspark.ml.evaluation import MulticlassClassificationEvaluator\n",
        "\n",
        "# حذف داده ناقص و ستون‌های بی‌مصرف\n",
        "df = df.dropna(how=\"any\")\n",
        "df = df.drop(\"id\", \"dataset\")\n",
        "\n",
        "#  تبدیل به classification دوتایی: 0 = سلامت | 1 = بیمار\n",
        "df = df.withColumn(\"label\", when(col(\"num\") == 0, 0).otherwise(1))\n",
        "\n",
        "# تعیین ستون‌ها\n",
        "numeric_cols = ['age', 'trestbps', 'chol', 'thalch', 'oldpeak', 'ca']\n",
        "boolean_cols = ['fbs', 'exang']\n",
        "categorical_cols = ['sex', 'cp', 'restecg', 'slope', 'thal']\n",
        "\n",
        "# ساخت pipeline\n",
        "indexers = [StringIndexer(inputCol=c, outputCol=c + \"_idx\", handleInvalid=\"keep\") for c in categorical_cols]\n",
        "final_features = numeric_cols + boolean_cols + [c + \"_idx\" for c in categorical_cols]\n",
        "assembler = VectorAssembler(inputCols=final_features, outputCol=\"features\")\n",
        "pipeline = Pipeline(stages=indexers + [assembler])\n",
        "\n",
        "# پردازش\n",
        "processed_df = pipeline.fit(df).transform(df).select(\"features\", \"label\")\n",
        "train_data, test_data = processed_df.randomSplit([0.8, 0.2], seed=42)\n",
        "\n",
        "#  مدل GBTClassifier (درخت تقویتی)\n",
        "gbt = GBTClassifier(labelCol=\"label\", featuresCol=\"features\", maxIter=100, maxDepth=5, stepSize=0.1, seed=42)\n",
        "model = gbt.fit(train_data)\n",
        "predictions = model.transform(test_data)\n",
        "\n",
        "#  ارزیابی\n",
        "evaluator_acc = MulticlassClassificationEvaluator(labelCol=\"label\", predictionCol=\"prediction\", metricName=\"accuracy\")\n",
        "evaluator_f1  = MulticlassClassificationEvaluator(labelCol=\"label\", predictionCol=\"prediction\", metricName=\"f1\")\n",
        "evaluator_pre = MulticlassClassificationEvaluator(labelCol=\"label\", predictionCol=\"prediction\", metricName=\"weightedPrecision\")\n",
        "evaluator_rec = MulticlassClassificationEvaluator(labelCol=\"label\", predictionCol=\"prediction\", metricName=\"weightedRecall\")\n",
        "\n",
        "print(\" Accuracy       :\", round(evaluator_acc.evaluate(predictions), 4))\n",
        "print(\" F1 Score       :\", round(evaluator_f1.evaluate(predictions), 4))\n",
        "print(\" Precision      :\", round(evaluator_pre.evaluate(predictions), 4))\n",
        "print(\" Recall         :\", round(evaluator_rec.evaluate(predictions), 4))\n"
      ],
      "metadata": {
        "colab": {
          "base_uri": "https://localhost:8080/"
        },
        "id": "1cb7vzu00OIe",
        "outputId": "b4484f5a-9bc3-4b15-9cf4-6a68f08c54a1"
      },
      "execution_count": null,
      "outputs": [
        {
          "output_type": "stream",
          "name": "stdout",
          "text": [
            " Accuracy       : 0.617\n",
            " F1 Score       : 0.6181\n",
            " Precision      : 0.6213\n",
            " Recall         : 0.617\n"
          ]
        }
      ]
    },
    {
      "cell_type": "markdown",
      "source": [
        "اگمنتیشن"
      ],
      "metadata": {
        "id": "EvRLqXFn9A1A"
      }
    },
    {
      "cell_type": "code",
      "source": [
        "from pyspark.sql.functions import rand\n",
        "from pyspark.sql import DataFrame\n",
        "\n",
        "# تابع oversample کردن کلاس هدف به مقدار دلخواه\n",
        "def oversample(df: DataFrame, target_class: int, factor: int) -> DataFrame:\n",
        "    small_df = df.filter(df.label == target_class)\n",
        "    oversampled = small_df.sample(withReplacement=True, fraction=factor, seed=42)\n",
        "    return oversampled\n",
        "\n",
        "# شمارش کلاس‌ها\n",
        "df_counts = processed_df.groupBy(\"label\").count().orderBy(\"label\")\n",
        "df_counts.show()\n",
        "\n",
        "# داده‌افزایی برای کلاس‌های با تعداد کم\n",
        "augmented_dfs = [processed_df]  # شروع با کل دیتا\n",
        "augmentation_factors = {1: 2.5, 2: 3.0, 3: 3.5}  # کلاس 0 نیازی نداره\n",
        "\n",
        "for label, factor in augmentation_factors.items():\n",
        "    augmented_dfs.append(oversample(processed_df, label, factor))\n",
        "\n",
        "# تجمیع نهایی داده‌های افزوده شده\n",
        "balanced_df = augmented_dfs[0]\n",
        "for aug_df in augmented_dfs[1:]:\n",
        "    balanced_df = balanced_df.union(aug_df)\n",
        "\n",
        "# بررسی توازن نهایی\n",
        "balanced_df.groupBy(\"label\").count().orderBy(\"label\").show()\n",
        "\n",
        "\n",
        "from pyspark.ml.classification import RandomForestClassifier\n",
        "from pyspark.ml.evaluation import MulticlassClassificationEvaluator\n",
        "\n",
        "# تقسیم آموزش و تست\n",
        "train_data, test_data = balanced_df.randomSplit([0.8, 0.2], seed=42)\n",
        "\n",
        "# مدل Random Forest\n",
        "rf = RandomForestClassifier(labelCol=\"label\", featuresCol=\"features\", numTrees=150, maxDepth=10)\n",
        "model = rf.fit(train_data)\n",
        "predictions = model.transform(test_data)\n",
        "\n",
        "# ارزیابی نهایی\n",
        "evaluator = MulticlassClassificationEvaluator(labelCol=\"label\", predictionCol=\"prediction\")\n",
        "acc = evaluator.evaluate(predictions, {evaluator.metricName: \"accuracy\"})\n",
        "f1 = evaluator.evaluate(predictions, {evaluator.metricName: \"f1\"})\n",
        "precision = evaluator.evaluate(predictions, {evaluator.metricName: \"weightedPrecision\"})\n",
        "recall = evaluator.evaluate(predictions, {evaluator.metricName: \"weightedRecall\"})\n",
        "\n",
        "print(f\" Accuracy (Augmented)  : {acc:.4f}\")\n",
        "print(f\" F1 Score (Augmented)  : {f1:.4f}\")\n",
        "print(f\" Precision (Augmented) : {precision:.4f}\")\n",
        "print(f\" Recall (Augmented)    : {recall:.4f}\")\n"
      ],
      "metadata": {
        "colab": {
          "base_uri": "https://localhost:8080/"
        },
        "id": "XXuZJVd172of",
        "outputId": "e240bde1-6352-44bb-f8fc-0c90a0c45e67"
      },
      "execution_count": null,
      "outputs": [
        {
          "output_type": "stream",
          "name": "stdout",
          "text": [
            "+-----+-----+\n",
            "|label|count|\n",
            "+-----+-----+\n",
            "|    0|  160|\n",
            "|    1|   56|\n",
            "|    2|   35|\n",
            "|    3|   35|\n",
            "|    4|   13|\n",
            "+-----+-----+\n",
            "\n",
            "+-----+-----+\n",
            "|label|count|\n",
            "+-----+-----+\n",
            "|    0|  160|\n",
            "|    1|  205|\n",
            "|    2|  146|\n",
            "|    3|  160|\n",
            "|    4|   13|\n",
            "+-----+-----+\n",
            "\n",
            " Accuracy (Augmented)  : 0.8915\n",
            " F1 Score (Augmented)  : 0.8763\n",
            " Precision (Augmented) : 0.8633\n",
            " Recall (Augmented)    : 0.8915\n"
          ]
        }
      ]
    }
  ]
}